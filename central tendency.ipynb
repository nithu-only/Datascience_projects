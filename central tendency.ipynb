{
 "cells": [
  {
   "cell_type": "code",
   "execution_count": 14,
   "id": "35c5704e",
   "metadata": {},
   "outputs": [
    {
     "name": "stdout",
     "output_type": "stream",
     "text": [
      "Mean: 4.142857142857143\n",
      "Median: 4\n",
      "Mode: 5\n"
     ]
    }
   ],
   "source": [
    "#with built in function\n",
    "import statistics\n",
    "\n",
    "# Sample data\n",
    "data = [1, 2, 3, 4, 5,9,5]\n",
    "\n",
    "# Calculate mean\n",
    "mean = statistics.mean(data)\n",
    "print(\"Mean:\", mean)\n",
    "\n",
    "# Calculate median\n",
    "median = statistics.median(data)\n",
    "print(\"Median:\", median)\n",
    "\n",
    "# Calculate mode\n",
    "mode = statistics.mode(data)\n",
    "print(\"Mode:\", mode)\n"
   ]
  },
  {
   "cell_type": "code",
   "execution_count": 20,
   "id": "f6048cfc",
   "metadata": {},
   "outputs": [
    {
     "ename": "TypeError",
     "evalue": "'int' object is not callable",
     "output_type": "error",
     "traceback": [
      "\u001b[1;31m---------------------------------------------------------------------------\u001b[0m",
      "\u001b[1;31mTypeError\u001b[0m                                 Traceback (most recent call last)",
      "Cell \u001b[1;32mIn[20], line 6\u001b[0m\n\u001b[0;32m      3\u001b[0m data \u001b[38;5;241m=\u001b[39m [\u001b[38;5;241m1\u001b[39m, \u001b[38;5;241m2\u001b[39m, \u001b[38;5;241m3\u001b[39m, \u001b[38;5;241m4\u001b[39m, \u001b[38;5;241m5\u001b[39m,\u001b[38;5;241m5\u001b[39m,\u001b[38;5;241m5\u001b[39m]\n\u001b[0;32m      5\u001b[0m \u001b[38;5;66;03m# Calculate mean\u001b[39;00m\n\u001b[1;32m----> 6\u001b[0m mean \u001b[38;5;241m=\u001b[39m \u001b[38;5;28msum\u001b[39m(data) \u001b[38;5;241m/\u001b[39m \u001b[38;5;28mlen\u001b[39m(data)\n\u001b[0;32m      7\u001b[0m \u001b[38;5;28mprint\u001b[39m(\u001b[38;5;124m\"\u001b[39m\u001b[38;5;124mMean:\u001b[39m\u001b[38;5;124m\"\u001b[39m, mean)\n\u001b[0;32m      9\u001b[0m \u001b[38;5;66;03m# Calculate median\u001b[39;00m\n",
      "\u001b[1;31mTypeError\u001b[0m: 'int' object is not callable"
     ]
    }
   ],
   "source": [
    "# without using built in fuction\n",
    "# Sample data\n",
    "data = [1, 2, 3, 4, 5,5,5]\n",
    "\n",
    "# Calculate mean\n",
    "mean = sum(data) / len(data)\n",
    "print(\"Mean:\", mean)\n",
    "\n",
    "# Calculate median\n",
    "data.sort()\n",
    "n = len(data)\n",
    "if n % 2 == 0:\n",
    "    median1 = data[n//2]\n",
    "    median2 = data[n//2 - 1]\n",
    "    median = (median1 + median2) / 2\n",
    "else:\n",
    "    median = data[n//2]\n",
    "print(\"Median:\", median)\n",
    "\n",
    "# Calculate mode\n",
    "mode_dict = {}\n",
    "for num in data:\n",
    "    if num not in mode_dict:\n",
    "        mode_dict[num] = 1\n",
    "    else:\n",
    "        mode_dict[num] += 1\n",
    "\n",
    "mode_list = []\n",
    "for key, value in mode_dict.items():\n",
    "    if value == max(list(mode_dict.values())):\n",
    "        mode_list.append(key)\n",
    "\n",
    "if len(mode_list) == len(data):\n",
    "    print(\"No mode found\")\n",
    "else:\n",
    "    print(\"Mode:\", ', '.join(map(str, mode_list)))\n"
   ]
  },
  {
   "cell_type": "code",
   "execution_count": 21,
   "id": "1b4a850e",
   "metadata": {},
   "outputs": [
    {
     "name": "stdout",
     "output_type": "stream",
     "text": [
      "{1: 1, 2: 1, 3: 1, 4: 1, 5: 3}\n",
      "mode :  5\n"
     ]
    }
   ],
   "source": [
    "#calculating mode without funtion \n",
    "dict1={}\n",
    "for item in data:\n",
    "    if item in dict1:\n",
    "        dict1[item]+=1\n",
    "    else:\n",
    "        dict1[item]=1\n",
    "m=max(dict1.values())\n",
    "print(dict1)\n",
    "for k,v, in dict1.items():\n",
    "    if v==m:\n",
    "        print(\"mode : \",k)"
   ]
  },
  {
   "cell_type": "code",
   "execution_count": 22,
   "id": "ae5c347e",
   "metadata": {},
   "outputs": [
    {
     "name": "stdout",
     "output_type": "stream",
     "text": [
      "25\n"
     ]
    }
   ],
   "source": [
    "sum=0\n",
    "for i in data:\n",
    "    sum+=i\n",
    "    \n",
    "print(sum)"
   ]
  },
  {
   "cell_type": "code",
   "execution_count": 23,
   "id": "adc89727",
   "metadata": {},
   "outputs": [
    {
     "name": "stdout",
     "output_type": "stream",
     "text": [
      "7\n",
      "4\n"
     ]
    }
   ],
   "source": [
    "n=len(data)\n",
    "print(n)\n",
    "\n",
    "if n%2==0:\n",
    "    med1=data[n//2]\n",
    "    med2=data[n//2-1]\n",
    "    med=(med1+med2)/2\n",
    "else:\n",
    "    med=data[n//2]\n",
    "print(med)\n",
    "    "
   ]
  },
  {
   "cell_type": "code",
   "execution_count": 33,
   "id": "b9ea7bef",
   "metadata": {},
   "outputs": [
    {
     "name": "stdout",
     "output_type": "stream",
     "text": [
      "{1: 1, 2: 1, 3: 1, 4: 1, 5: 3}\n",
      "3\n",
      "dict_items([(1, 1), (2, 1), (3, 1), (4, 1), (5, 3)])\n",
      "mode is  5\n"
     ]
    }
   ],
   "source": [
    "dict2={}\n",
    "for i in data:\n",
    "    if i in dict2:\n",
    "        dict2[i]+=1\n",
    "    else:\n",
    "        dict2[i]=1\n",
    "print(dict2)\n",
    "maxi=max(dict2.values())\n",
    "print(maxi)\n",
    "print(dict2.items())\n",
    "\n",
    "for k,j in dict2.items():\n",
    "    if j==maxi:\n",
    "        print(\"mode is \",k)"
   ]
  }
 ],
 "metadata": {
  "kernelspec": {
   "display_name": "Python 3 (ipykernel)",
   "language": "python",
   "name": "python3"
  },
  "language_info": {
   "codemirror_mode": {
    "name": "ipython",
    "version": 3
   },
   "file_extension": ".py",
   "mimetype": "text/x-python",
   "name": "python",
   "nbconvert_exporter": "python",
   "pygments_lexer": "ipython3",
   "version": "3.11.4"
  }
 },
 "nbformat": 4,
 "nbformat_minor": 5
}
